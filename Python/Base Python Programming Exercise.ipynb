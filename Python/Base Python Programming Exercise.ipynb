{
 "cells": [
  {
   "cell_type": "markdown",
   "metadata": {},
   "source": [
    "## Python Basic Programming Exercises"
   ]
  },
  {
   "cell_type": "markdown",
   "metadata": {},
   "source": [
    "# Q1: What is the output of following expression\n",
    "    5 + 4 * 9 % (3 + 1) / 6 - 1"
   ]
  },
  {
   "cell_type": "code",
   "execution_count": 72,
   "metadata": {},
   "outputs": [
    {
     "name": "stdout",
     "output_type": "stream",
     "text": [
      "4.0\n"
     ]
    }
   ],
   "source": [
    "exp =  5 + 4 * 9 % (3 + 1) / 6 - 1\n",
    "print(exp)"
   ]
  },
  {
   "cell_type": "markdown",
   "metadata": {},
   "source": [
    "# Q2: Write a program to check if a Number is Odd or Even. Take number as a input from user at runtime."
   ]
  },
  {
   "cell_type": "code",
   "execution_count": 6,
   "metadata": {},
   "outputs": [
    {
     "name": "stdout",
     "output_type": "stream",
     "text": [
      "Enter a number:9\n",
      "The number: 9 is an odd number\n"
     ]
    }
   ],
   "source": [
    "number = int(input(\"Enter a number:\"))\n",
    "if number%2==0: # condition for even number\n",
    "    print(\"The number %d is an even number\" %(number))\n",
    "else:\n",
    "    print(f\"The number: {number} is an odd number\")"
   ]
  },
  {
   "cell_type": "markdown",
   "metadata": {},
   "source": [
    "# Q3: Write a program to display the multiplication table by taking a number as input. \n",
    "    [Hint : Use print statement inside of a loop]"
   ]
  },
  {
   "cell_type": "code",
   "execution_count": 10,
   "metadata": {
    "scrolled": true
   },
   "outputs": [
    {
     "name": "stdout",
     "output_type": "stream",
     "text": [
      "Enter a number:4\n",
      "4 * 1 = 4\n",
      "4 * 2 = 8\n",
      "4 * 3 = 12\n",
      "4 * 4 = 16\n",
      "4 * 5 = 20\n",
      "4 * 6 = 24\n",
      "4 * 7 = 28\n",
      "4 * 8 = 32\n",
      "4 * 9 = 36\n",
      "4 * 10 = 40\n"
     ]
    }
   ],
   "source": [
    "number = int(input(\"Enter a number:\"))\n",
    "for i in range(1,11):\n",
    "    print(f\"{number} * {i} =\", number*i)"
   ]
  },
  {
   "cell_type": "markdown",
   "metadata": {},
   "source": [
    "# Q4: Write a program which will find all numbers between 2000 and 3200 which are divisible by 7 but are not a multiple of 5.\n",
    " \n",
    "Note: The numbers obtained should be printed in a comma-separated sequence on a single line."
   ]
  },
  {
   "cell_type": "code",
   "execution_count": 17,
   "metadata": {},
   "outputs": [
    {
     "name": "stdout",
     "output_type": "stream",
     "text": [
      "2002,2009,2016,2023,2037,2044,2051,2058,2072,2079,2086,2093,2107,2114,2121,2128,2142,2149,2156,2163,2177,2184,2191,2198,2212,2219,2226,2233,2247,2254,2261,2268,2282,2289,2296,2303,2317,2324,2331,2338,2352,2359,2366,2373,2387,2394,2401,2408,2422,2429,2436,2443,2457,2464,2471,2478,2492,2499,2506,2513,2527,2534,2541,2548,2562,2569,2576,2583,2597,2604,2611,2618,2632,2639,2646,2653,2667,2674,2681,2688,2702,2709,2716,2723,2737,2744,2751,2758,2772,2779,2786,2793,2807,2814,2821,2828,2842,2849,2856,2863,2877,2884,2891,2898,2912,2919,2926,2933,2947,2954,2961,2968,2982,2989,2996,3003,3017,3024,3031,3038,3052,3059,3066,3073,3087,3094,3101,3108,3122,3129,3136,3143,3157,3164,3171,3178,3192,3199,"
     ]
    }
   ],
   "source": [
    "for i in range(2000,3201):\n",
    "    if i%7==0 and i%5!=0:\n",
    "        print(i,end=\",\") #end -> can specify a delimeter on how the output should be printed"
   ]
  },
  {
   "cell_type": "markdown",
   "metadata": {},
   "source": [
    "# Q5: Count the elements of each datatype inside the list and display in output\n",
    "    [2, 3, 'Py', '10', 1, 'SQL', 5.5, True, 3, 'John', None, 7]    "
   ]
  },
  {
   "cell_type": "raw",
   "metadata": {},
   "source": [
    "# Collections\n",
    "This module implements specialized container datatypes providing \n",
    "alternatives to Python’s general purpose built-in containers, dict, list, set, and tuple."
   ]
  },
  {
   "cell_type": "code",
   "execution_count": null,
   "metadata": {},
   "outputs": [],
   "source": [
    "1st Solution"
   ]
  },
  {
   "cell_type": "code",
   "execution_count": 25,
   "metadata": {},
   "outputs": [
    {
     "name": "stdout",
     "output_type": "stream",
     "text": [
      "{'int': 5, 'str': 4, 'float': 1, 'bool': 1, 'NoneType': 1}\n"
     ]
    }
   ],
   "source": [
    "list1 = [2, 3, 'Py', '10', 1, 'SQL', 5.5, True, 3, 'John', None, 7]    \n",
    "import collections as c\n",
    "output=c.Counter(type(dt).__name__ for dt in list1) \n",
    "#__name__ is a built-in variable which evaluates to the name of the associated module/variable.\n",
    "print(dict(output))"
   ]
  },
  {
   "cell_type": "markdown",
   "metadata": {},
   "source": [
    "2nd Solution:"
   ]
  },
  {
   "cell_type": "code",
   "execution_count": 30,
   "metadata": {},
   "outputs": [
    {
     "data": {
      "text/plain": [
       "Counter({int: 5, str: 4, float: 1, bool: 1, NoneType: 1})"
      ]
     },
     "execution_count": 30,
     "metadata": {},
     "output_type": "execute_result"
    }
   ],
   "source": [
    "from collections import Counter\n",
    "list1 = [2, 3, 'Py', '10', 1, 'SQL', 5.5, True, 3, 'John', None, 7] \n",
    "c=Counter()\n",
    "for dt in list1:\n",
    "    c[type(dt)]= c[type(dt)]+1\n",
    "c"
   ]
  },
  {
   "cell_type": "markdown",
   "metadata": {},
   "source": [
    "# Q6: Add all values from the list with numeric datatypes \n",
    "    [2, 3, 'Py', '10', 1, 'SQL', 5.5, True, 3, 'John', None, 7] "
   ]
  },
  {
   "cell_type": "code",
   "execution_count": 74,
   "metadata": {},
   "outputs": [
    {
     "name": "stdout",
     "output_type": "stream",
     "text": [
      "[2, 3, 1, 3, 7, 5.5]\n",
      "The sum of non numeric datatype values is: 21.5\n"
     ]
    }
   ],
   "source": [
    "list1 = [2, 3, 'Py', '10', 1, 'SQL', 5.5, True, 3, 'John', None, 7]\n",
    "integer = []\n",
    "floating= []\n",
    "for data in list1:\n",
    "    if type(data) == int:     # filtering the integers\n",
    "        integer.append(data)\n",
    "    if type(data) == float:   #filtering the floating values\n",
    "        floating.append(data)\n",
    "new_list = integer + floating  # appending both the lists\n",
    "print(new_list)\n",
    "\n",
    "#total = sum(new_list)\n",
    "#print(total) -> gives \"int object not callable\" error; should check\n",
    "\n",
    "total = 0\n",
    "for i in range(0,len(new_list)):\n",
    "    total = total+new_list[i]\n",
    "\n",
    "print(f\"The sum of non numeric datatype values is: {total}\")\n",
    "\n"
   ]
  },
  {
   "cell_type": "markdown",
   "metadata": {},
   "source": [
    "# Q7: Concat all str datatypes with hyphen as a delimiter\n",
    "    [2, 3, 'Py', '10', 1, 'SQL', 5.5, True, 3, 'John', None, 7] "
   ]
  },
  {
   "cell_type": "code",
   "execution_count": 78,
   "metadata": {},
   "outputs": [
    {
     "name": "stdout",
     "output_type": "stream",
     "text": [
      "['Py', '10', 'SQL', 'John']\n",
      "Py-10-SQL-John\n"
     ]
    }
   ],
   "source": [
    "list1 = [2, 3, 'Py', '10', 1, 'SQL', 5.5, True, 3, 'John', None, 7] \n",
    "string = []\n",
    "#Seperating only string elements of the list\n",
    "for data in list1:\n",
    "    if type(data)== str:\n",
    "        string.append(data)\n",
    "print(string)\n",
    "\n",
    "#attach the delimiter to all the elements ->use join() method\n",
    "new_string = \"-\"\n",
    "output = new_string.join(string)\n",
    "print(output)\n",
    "    \n",
    "        "
   ]
  },
  {
   "cell_type": "markdown",
   "metadata": {},
   "source": [
    "# Q8: Write a UDF that takes list as input and returns sum of all numbers    (exclude bool) and count of all str     [2, 3, 'Py', '10', 1, 'SQL', 5.5, True, 3, 'John', None, 7] \n",
    "    \n",
    "Hint:\n",
    "-----\n",
    "def my_func:\n",
    "    # your code\n",
    "        \n",
    "my_func(l1)\n",
    "# output --> {'Sum': xxx, 'Count_of_Strs': xxx}"
   ]
  },
  {
   "cell_type": "code",
   "execution_count": 90,
   "metadata": {},
   "outputs": [
    {
     "name": "stdout",
     "output_type": "stream",
     "text": [
      "The sum of all the numeric values is 21.5\n",
      "The count of strings in the list is 4\n"
     ]
    }
   ],
   "source": [
    "def fun(list1):\n",
    "    integer = []\n",
    "    floating= []\n",
    "    count=0\n",
    "    for data in list1:\n",
    "        if type(data) == int:     # filtering the integers\n",
    "            integer.append(data)\n",
    "        if type(data) == float:   #filtering the floating values\n",
    "            floating.append(data)\n",
    "        if type(data) == str:\n",
    "            count = count+1\n",
    "    print(f\"The count of strings in the list is {count}\")\n",
    "new_list = integer + floating  # appending both the lists\n",
    "total=0\n",
    "for i in range(0,len(new_list)):\n",
    "    total = total+new_list[i]\n",
    "print(\"The sum of all the numeric values is %.1f\" %(total))\n",
    "\n",
    "# function call\n",
    "fun([2, 3, 'Py', '10', 1, 'SQL', 5.5, True, 3, 'John', None, 7])\n",
    "    "
   ]
  },
  {
   "cell_type": "markdown",
   "metadata": {},
   "source": [
    "# Q9: Get only odd numbers from the following list and store the numbers in new list     li = [5, 7, 22, 97, 54, 62, 77, 23, 73, 61]\n",
    "\n",
    "   i. Use loops to get the answer\n",
    "   ii. Use list comprehensions\n",
    "   iii. Use lambda function with filter"
   ]
  },
  {
   "cell_type": "code",
   "execution_count": 3,
   "metadata": {},
   "outputs": [
    {
     "name": "stdout",
     "output_type": "stream",
     "text": [
      "[5, 7, 97, 77, 23, 73, 61]\n"
     ]
    }
   ],
   "source": [
    "li = [5, 7, 22, 97, 54, 62, 77, 23, 73, 61]\n",
    "new_list=list(filter(lambda i : i%2!=0,li))\n",
    "print(new_list)"
   ]
  },
  {
   "cell_type": "markdown",
   "metadata": {},
   "source": [
    "# Q10: Write a UDF to return the descriptives [sum, count, min, mean, max] for a list of n number of input    numbers."
   ]
  },
  {
   "cell_type": "code",
   "execution_count": 3,
   "metadata": {},
   "outputs": [
    {
     "name": "stdout",
     "output_type": "stream",
     "text": [
      "Enter a number:10\n",
      "sum is 55\n",
      "min is 1\n",
      "max is 10\n",
      "count is 10\n",
      "avg is 5.5\n"
     ]
    }
   ],
   "source": [
    "def fun(number):\n",
    "    list1=[]\n",
    "    for i in range(1,number+1):\n",
    "        list1.append(i)\n",
    "    print(f\"sum is {sum(list1)}\")\n",
    "    print(f\"min is {min(list1)}\")\n",
    "    print(f\"max is {max(list1)}\")\n",
    "    print(f\"count is {len(list1)}\")\n",
    "    print(f\"avg is {sum(list1)/len(list1)}\")\n",
    "\n",
    "number = int(input(\"Enter a number:\"))\n",
    "fun(number)\n",
    "        "
   ]
  },
  {
   "cell_type": "markdown",
   "metadata": {},
   "source": [
    "# Q11: Write an udf to calculate the area of different shapes\n",
    "\n",
    "Take shape and dimensions as arguments to udf as follows : \n",
    "\n",
    "1. square which has side\n",
    "2. rectangle which has length and width\n",
    "3. circle which has radius\n",
    "\n",
    "The shape should be a positional argument and it's dimensions are taken as kwargs\n",
    "\n",
    "Perform proper validation for the user inputs and then calculate area.\n",
    "\n",
    "E.g. if shape is square, ensure kwargs has \"side\" and if so, then you may return the area, else display appropriate error message like \"Please enter 'side' for a square\""
   ]
  },
  {
   "cell_type": "code",
   "execution_count": 3,
   "metadata": {},
   "outputs": [
    {
     "name": "stdout",
     "output_type": "stream",
     "text": [
      "Enter the shape::circle\n",
      "Enter the radius3\n",
      "28.26\n"
     ]
    }
   ],
   "source": [
    "def area(shape,**kwargs):\n",
    "    if shape ==\"square\":\n",
    "        for keys,value in kwargs.items():\n",
    "            if value!=\"\":\n",
    "                print(int(value)**2)\n",
    "            else:\n",
    "                print(\"Enter the sides for area calculation\")\n",
    "    if shape == \"rect\":\n",
    "        l=input(\"Enter the length\")\n",
    "        b=input(\"Enter the breadth\")\n",
    "        if l!=\"\" and b!=\"\":\n",
    "            print(int(b)*int(l))\n",
    "        else:\n",
    "            print(\"Enter the l and b for area calculation\")\n",
    "    if shape == \"circle\":\n",
    "        pi=3.14\n",
    "        r=input(\"Enter the radius\")\n",
    "        if r!=\"\":\n",
    "            print(pi * (int(r)**2))\n",
    "        else:\n",
    "            print(\"Enter the l and b for area calculation\")\n",
    "            \n",
    "            \n",
    "        \n",
    "shape=input(\"Enter the shape::\")\n",
    "\n",
    "\n",
    "area(shape,a=10)"
   ]
  },
  {
   "cell_type": "markdown",
   "metadata": {},
   "source": [
    "# Q12: Write a UDF to reconcile the values within two lists.\n",
    "    l1 = ['January', 'February', 'March', 'May', 'June', 'September', 'December']\n",
    "    l2 = ['January', 'February', 'April', 'June', 'October', 'December']\n",
    "\n",
    "Hint:\n",
    "-----\n",
    "def func(l1, l2):\n",
    "    your code here...\n",
    "    \n",
    "Output:\n",
    "{'Matched': ['January', 'February', 'June', 'December'],\n",
    "    'Only in l1': ['March', 'May', 'September'],\n",
    "        'Only in l2': ['April', 'October']}"
   ]
  },
  {
   "cell_type": "code",
   "execution_count": 11,
   "metadata": {},
   "outputs": [
    {
     "name": "stdout",
     "output_type": "stream",
     "text": [
      "{'Matched': ['January', 'February', 'June', 'December']} {'Only in l1': ['March', 'September', 'May']} {'Only in l2': ['October', 'April']}\n"
     ]
    }
   ],
   "source": [
    "def match_elements(list_a, list_b):\n",
    "    match = []\n",
    "    for i in list_a:\n",
    "        if i in list_b:\n",
    "            match.append(i)\n",
    "    return match\n",
    "\n",
    "def only_in_l1(list1,list2):\n",
    "    inl1=set(list1)-set(list2)\n",
    "    return list(inl1)\n",
    "\n",
    "def only_in_l2(list1,list2):\n",
    "    inl2=set(list2)-set(list1)\n",
    "    return list(inl2)\n",
    "    \n",
    "    \n",
    "    \n",
    "l1 = ['January', 'February', 'March', 'May', 'June', 'September', 'December']\n",
    "l2 = ['January', 'February', 'April', 'June', 'October', 'December']\n",
    "dictM = {}\n",
    "dictl1={}\n",
    "dictl2={}\n",
    "dictM[\"Matched\"]=match_elements(l1,l2)\n",
    "dictl1[\"Only in l1\"]=only_in_l1(l1,l2)\n",
    "dictl2[\"Only in l2\"]=only_in_l2(l1,l2)\n",
    "print(dictM,dictl1,dictl2)\n",
    "                    "
   ]
  },
  {
   "cell_type": "markdown",
   "metadata": {
    "collapsed": true
   },
   "source": [
    "# Q13: write a UDF to check if a number is prime or not."
   ]
  },
  {
   "cell_type": "code",
   "execution_count": 31,
   "metadata": {},
   "outputs": [
    {
     "name": "stdout",
     "output_type": "stream",
     "text": [
      "5\n",
      "5 is a prime number\n"
     ]
    }
   ],
   "source": [
    "num = int(input())\n",
    "if num > 1:\n",
    "    for i in range(2, int(num/2)+1):\n",
    "            if (num % i) == 0:\n",
    "                print(num, \"is not a prime number\")\n",
    "                break\n",
    "    else:\n",
    "        print(num, \"is a prime number\")\n",
    "else:\n",
    "    print(num, \"is not a prime number\")"
   ]
  },
  {
   "cell_type": "markdown",
   "metadata": {
    "collapsed": true
   },
   "source": [
    "# Q14. Write a program which can compute the factorial of a given numbers. The results should be printed in a comma-separated sequence on a single line. input() function can be used for getting user(console) input\n",
    "\n",
    "\n",
    "#Suppose the input is supplied to the program:  8  \n",
    "#Then, the output should be:  40320 \n",
    "#Hints: In case of input data being supplied to the question, it should be assumed to be a console input. \n"
   ]
  },
  {
   "cell_type": "code",
   "execution_count": 7,
   "metadata": {},
   "outputs": [
    {
     "name": "stdout",
     "output_type": "stream",
     "text": [
      "8\n",
      "40320\n"
     ]
    }
   ],
   "source": [
    "def fact(x):\n",
    "    if x == 0:\n",
    "        return 1\n",
    "    return x * fact(x - 1)\n",
    "\n",
    "\n",
    "x=int(input())\n",
    "print(fact(x))\n",
    "\n"
   ]
  },
  {
   "cell_type": "markdown",
   "metadata": {
    "collapsed": true
   },
   "source": [
    "# Q15. With a given integral number n, write a program to generate a dictionary that contains (i, i*i) such that is an integral number between 1 and n (both included). and then the program should print the dictionary.\n",
    "\n",
    "#Suppose the following input is supplied to the program: 8\n",
    "#Then, the output should be: {1: 1, 2: 4, 3: 9, 4: 16, 5: 25, 6: 36, 7: 49, 8: 64}\n",
    "#Hints: In case of input data being supplied to the question, it should be assumed to be a console input. Consider using dict()\n",
    "\n"
   ]
  },
  {
   "cell_type": "code",
   "execution_count": 15,
   "metadata": {},
   "outputs": [
    {
     "name": "stdout",
     "output_type": "stream",
     "text": [
      "Enter the number: 8\n",
      "{1: 1, 2: 4, 3: 9, 4: 16, 5: 25, 6: 36, 7: 49, 8: 64}\n"
     ]
    }
   ],
   "source": [
    "number = int(input(\"Enter the number: \"))\n",
    "dict1={}\n",
    "for i in range(1,number+1):\n",
    "    dict1[i] = i*i       #dict[key] = value\n",
    "print(dict1)\n",
    "    "
   ]
  },
  {
   "cell_type": "markdown",
   "metadata": {
    "collapsed": true
   },
   "source": [
    "# Q16. Write a program which accepts a sequence of comma-separated numbers from console and generate a list and a tuple which contains every number.\n",
    "#Suppose the following input is supplied to the program: 34,67,55,33,12,98\n",
    "    #Then, the output should be: ['34', '67', '55', '33', '12', '98'] ('34', '67', '55', '33', '12', '98')\n",
    "\n",
    "#Hints: In case of input data being supplied to the question, it should be assumed to be a console input. you may use tuple() method to convert list to tuple\n"
   ]
  },
  {
   "cell_type": "code",
   "execution_count": 33,
   "metadata": {},
   "outputs": [
    {
     "name": "stdout",
     "output_type": "stream",
     "text": [
      "34,67,55,33,12,98\n",
      "['34', '67', '55', '33', '12', '98'] ('34', '67', '55', '33', '12', '98')\n"
     ]
    }
   ],
   "source": [
    "data = input()\n",
    "list1=data.split(\",\")\n",
    "tup=tuple(list1)\n",
    "print(list1,tup)\n"
   ]
  },
  {
   "cell_type": "markdown",
   "metadata": {
    "collapsed": true
   },
   "source": [
    "# Q17. Write a program that accepts a comma separated sequence of words as input and prints the words in a comma-separated sequence after sorting them alphabetically.\n",
    " Suppose the following input is supplied to the program: without,hello,bag,world\n",
    "Then, the output should be: bag,hello,without,world\n",
    "\n",
    "#Hints: In case of input data being supplied to the question, it should be assumed to be a console input.\n"
   ]
  },
  {
   "cell_type": "code",
   "execution_count": 23,
   "metadata": {},
   "outputs": [
    {
     "name": "stdout",
     "output_type": "stream",
     "text": [
      "without,hello,bag,world\n",
      "bag,hello,without,world\n"
     ]
    }
   ],
   "source": [
    "string1 = input()\n",
    "string2 = ','.join(sorted(set(string1.split(\",\")))) # sorted(sorts the string alphabetically)\n",
    "print(string2)"
   ]
  },
  {
   "cell_type": "markdown",
   "metadata": {
    "collapsed": true
   },
   "source": [
    "# Q18. Write a program that accepts a sequence of whitespace separated words as input and prints the words after removing all duplicate words and sorting them alphanumerically. \n",
    " Suppose the following input is supplied to the program: hello world and practice makes perfect and hello world again\n",
    "Then, the output should be: again and hello makes perfect practice world\n",
    "\n",
    "#Hints: In case of input data being supplied to the question, it should be assumed to be a console input.\n",
    "#We use set container to remove duplicated data automatically and then use sorted() to sort the data.\n"
   ]
  },
  {
   "cell_type": "code",
   "execution_count": 24,
   "metadata": {},
   "outputs": [
    {
     "name": "stdout",
     "output_type": "stream",
     "text": [
      " hello world and practice makes perfect and hello world again\n",
      "again and hello makes perfect practice world\n"
     ]
    }
   ],
   "source": [
    "string1 = input()\n",
    "string2 = ' '.join(sorted(set(string1.split()))) # by default the seperator is space\n",
    "print(string2)"
   ]
  },
  {
   "cell_type": "markdown",
   "metadata": {
    "collapsed": true
   },
   "source": [
    "# Q19. Write a program that accepts a sentence and calculate the number of upper case letters and lower case letters.\n",
    "\n",
    "#Suppose the following input is supplied to the program: Hello world!\n",
    "#Then, the output should be: UPPER CASE 1 LOWER CASE 9\n",
    "\n",
    "#Hints: In case of input data being supplied to the question, it should be assumed to be a console input.\n"
   ]
  },
  {
   "cell_type": "code",
   "execution_count": 14,
   "metadata": {},
   "outputs": [
    {
     "name": "stdout",
     "output_type": "stream",
     "text": [
      "Enter a String:hello How Are You\n",
      "UPPERCASE letters: 3\n",
      "lowercase letters: 11\n"
     ]
    }
   ],
   "source": [
    "string = input(\"Enter a String:\")\n",
    "count={\"UPPER CASE\":0, \"LOWER CASE\":0}\n",
    "for i in string:\n",
    "    if i.isupper():\n",
    "        count[\"UPPER CASE\"]+=1\n",
    "    elif i.islower():\n",
    "        count[\"LOWER CASE\"]+=1\n",
    "    else:\n",
    "        pass\n",
    "print(\"UPPERCASE letters:\", count[\"UPPER CASE\"])\n",
    "print(\"lowercase letters:\", count[\"LOWER CASE\"])\n",
    "    "
   ]
  },
  {
   "cell_type": "markdown",
   "metadata": {
    "collapsed": true
   },
   "source": [
    "# Q20. Write a program that takes a string and returns reversed string. i.e. if input is \"abcd123\" output should be \"321dcba\""
   ]
  },
  {
   "cell_type": "code",
   "execution_count": 13,
   "metadata": {},
   "outputs": [
    {
     "name": "stdout",
     "output_type": "stream",
     "text": [
      "Enter the string:python is interesting\n",
      "gnitseretni si nohtyp\n"
     ]
    }
   ],
   "source": [
    "def reverse(string):\n",
    "    list_str = list(string)\n",
    "    new = list_str[::-1] # reversing a list\n",
    "    output=\"\".join(new) #joining all the elements in the list\n",
    "    return output\n",
    "    \n",
    "string = input(\"Enter the string:\")\n",
    "print(reverse(string))"
   ]
  }
 ],
 "metadata": {
  "kernelspec": {
   "display_name": "Python 3 (ipykernel)",
   "language": "python",
   "name": "python3"
  },
  "language_info": {
   "codemirror_mode": {
    "name": "ipython",
    "version": 3
   },
   "file_extension": ".py",
   "mimetype": "text/x-python",
   "name": "python",
   "nbconvert_exporter": "python",
   "pygments_lexer": "ipython3",
   "version": "3.10.0"
  },
  "varInspector": {
   "cols": {
    "lenName": 16,
    "lenType": 16,
    "lenVar": 40
   },
   "kernels_config": {
    "python": {
     "delete_cmd_postfix": "",
     "delete_cmd_prefix": "del ",
     "library": "var_list.py",
     "varRefreshCmd": "print(var_dic_list())"
    },
    "r": {
     "delete_cmd_postfix": ") ",
     "delete_cmd_prefix": "rm(",
     "library": "var_list.r",
     "varRefreshCmd": "cat(var_dic_list()) "
    }
   },
   "types_to_exclude": [
    "module",
    "function",
    "builtin_function_or_method",
    "instance",
    "_Feature"
   ],
   "window_display": false
  }
 },
 "nbformat": 4,
 "nbformat_minor": 2
}
