{
 "cells": [
  {
   "cell_type": "markdown",
   "id": "fb5be073",
   "metadata": {},
   "source": [
    "# Loops"
   ]
  },
  {
   "cell_type": "markdown",
   "id": "a275b6c5",
   "metadata": {},
   "source": [
    "###  Write a program that asks the user for a secret password. When the wrong Secret Password is entered, it should display an error message and allow the user to re-attempt the password ( Use the WHILE Loop)\n",
    "\n",
    "\n",
    "#### The secret password is '$H@s1234'\n",
    "\n",
    " Hint: use the == operator to check if two strings match"
   ]
  },
  {
   "cell_type": "code",
   "execution_count": null,
   "id": "687bba34",
   "metadata": {
    "ExecuteTime": {
     "end_time": "2022-04-20T15:49:26.595375Z",
     "start_time": "2022-04-20T15:49:26.590374Z"
    }
   },
   "outputs": [],
   "source": [
    "secret_pwd = '$H@s1234'\n",
    "\n",
    "\n",
    "while 1:\n",
    "    pwd = input(\"Enter the password\")\n",
    "    if pwd == secret_pwd:\n",
    "        print(\"Correct password\")\n",
    "        break\n",
    "    else:\n",
    "        print(\"Invalid password\")\n",
    "        continue\n",
    "        \n",
    "\n",
    "\n"
   ]
  },
  {
   "cell_type": "markdown",
   "id": "00f344b1",
   "metadata": {},
   "source": [
    "### Suppose the user wants to change the secret password, write a program to do the same.(Use WHILE Loop)\n",
    "\n",
    "### The program should check for these conditions\n",
    "1. It cannot be the same as the previous password\n",
    "2. The program should prompt for the user to reenter the new pwd and the change should only be accepted if they match with previously entered value\n",
    "\n"
   ]
  },
  {
   "cell_type": "code",
   "execution_count": null,
   "id": "69dba950",
   "metadata": {},
   "outputs": [],
   "source": [
    "secret_pwd = '$H@s1234'\n",
    "while 1:\n",
    "    pwd = input(\"Enter the password\")\n",
    "    if pwd == secret_pwd:\n",
    "        new_pwd=input(\"Enter new password\")\n",
    "        secret_pwd = new_pwd\n",
    "        if new_pwd == secret_pwd:\n",
    "            print(\"Correct password\")\n",
    "            break\n",
    "    else:\n",
    "        print(\"Invalid password\")\n",
    "        continue\n"
   ]
  },
  {
   "cell_type": "markdown",
   "id": "db28014f",
   "metadata": {
    "ExecuteTime": {
     "end_time": "2022-04-20T15:44:48.945035Z",
     "start_time": "2022-04-20T15:44:48.945035Z"
    }
   },
   "source": [
    "### Write a program to print all the numbers that is a multiplicative of both 5 and 7 till 100\n",
    "Hint: Use the if clause"
   ]
  },
  {
   "cell_type": "code",
   "execution_count": 1,
   "id": "2ad2190e",
   "metadata": {},
   "outputs": [
    {
     "name": "stdout",
     "output_type": "stream",
     "text": [
      "35\n",
      "70\n"
     ]
    }
   ],
   "source": [
    "\n",
    "for i in range(1,101):\n",
    "    if i%5 == 0 and i%7 ==0:\n",
    "        print(i)"
   ]
  },
  {
   "cell_type": "markdown",
   "id": "eda58f0f",
   "metadata": {},
   "source": [
    "### Write a WHILE loop that prints all the cubes of the numbers from 7 to 25"
   ]
  },
  {
   "cell_type": "code",
   "execution_count": 1,
   "id": "1c6eff7e",
   "metadata": {},
   "outputs": [
    {
     "name": "stdout",
     "output_type": "stream",
     "text": [
      "343\n",
      "512\n",
      "729\n",
      "1000\n",
      "1331\n",
      "1728\n",
      "2197\n",
      "2744\n",
      "3375\n",
      "4096\n",
      "4913\n",
      "5832\n",
      "6859\n",
      "8000\n",
      "9261\n",
      "10648\n",
      "12167\n",
      "13824\n",
      "15625\n",
      "Completed the loop\n"
     ]
    }
   ],
   "source": [
    "while 1:\n",
    "    for i in range(7,26):\n",
    "        print(i*i*i)\n",
    "    print(\"Completed the loop\")\n",
    "    \n",
    "    if(i==25):\n",
    "        break\n",
    "    \n"
   ]
  },
  {
   "cell_type": "markdown",
   "id": "f1a97359",
   "metadata": {},
   "source": [
    "### Write a Program using the WHILE loop to print the factorial of any number that can be taken as input from the user ( Use the while Loop)"
   ]
  },
  {
   "cell_type": "code",
   "execution_count": 5,
   "id": "0b6452ea",
   "metadata": {
    "ExecuteTime": {
     "end_time": "2022-04-20T16:01:02.155181Z",
     "start_time": "2022-04-20T16:00:57.892928Z"
    }
   },
   "outputs": [
    {
     "name": "stdout",
     "output_type": "stream",
     "text": [
      "Enter the Number you want to find the Factorial for: 6\n",
      "720\n"
     ]
    }
   ],
   "source": [
    "num = int(input('Enter the Number you want to find the Factorial for: '))\n",
    "while 1:\n",
    "    fact=1\n",
    "    for i in range(1,num+1):\n",
    "        fact=fact*i\n",
    "    print(fact)\n",
    "    break\n",
    "\n",
    "    \n"
   ]
  },
  {
   "cell_type": "markdown",
   "id": "a22c8480",
   "metadata": {
    "ExecuteTime": {
     "end_time": "2022-04-20T15:44:48.946045Z",
     "start_time": "2022-04-20T15:44:48.946045Z"
    }
   },
   "source": [
    "### Write a Program using the WHILE loop to print the factorial of all numbers from 1 to 10\n",
    "Hint: Use the While loop You previously Created and nest it within another WHILE loop\n"
   ]
  },
  {
   "cell_type": "code",
   "execution_count": null,
   "id": "94489e52",
   "metadata": {},
   "outputs": [],
   "source": []
  },
  {
   "cell_type": "markdown",
   "id": "293d4b4d",
   "metadata": {},
   "source": [
    "###  Write a program that asks the user for a secret password. When the wrong Secret Password is entered, it should display a message and allow the user to re-attempt the password. A user is allowed a maximum of 3 tries (For Loop)\n",
    "\n",
    "\n",
    "#### The secret password is '$H@s1234'"
   ]
  },
  {
   "cell_type": "code",
   "execution_count": 4,
   "id": "0d465fe8",
   "metadata": {},
   "outputs": [
    {
     "name": "stdout",
     "output_type": "stream",
     "text": [
      "Enter the passwordui\n",
      "Invalid password..You have three chances...\n",
      "Enter the passwordrt\n",
      "Invalid password..You have three chances...\n",
      "Enter the passworder\n",
      "Invalid password..You have three chances...\n",
      "Failed to login\n"
     ]
    }
   ],
   "source": [
    "secret_pwd = '$H@s1234'\n",
    "attempt=0\n",
    "while attempt<3:\n",
    "    pwd=input(\"Enter the password:\")\n",
    "    if secret_pwd == pwd:\n",
    "        print(\"Correct Password\")\n",
    "        break\n",
    "    else:\n",
    "        print(\"Invalid password..You have three chances...\")\n",
    "    attempt=attempt+1\n",
    "        #continue\n",
    "    if attempt==3:\n",
    "        print(\"Failed to login\")\n",
    "        \n"
   ]
  },
  {
   "cell_type": "markdown",
   "id": "d8973670",
   "metadata": {
    "ExecuteTime": {
     "end_time": "2022-04-20T15:59:00.269241Z",
     "start_time": "2022-04-20T15:59:00.265112Z"
    }
   },
   "source": [
    "### Write a program that prints the multiplicative table for any number entered by the user till 10\n"
   ]
  },
  {
   "cell_type": "code",
   "execution_count": 7,
   "id": "ac1cf84d",
   "metadata": {},
   "outputs": [
    {
     "name": "stdout",
     "output_type": "stream",
     "text": [
      "Enter the number you want the table for 10\n",
      "10\n",
      "20\n",
      "30\n",
      "40\n",
      "50\n",
      "60\n",
      "70\n",
      "80\n",
      "90\n",
      "100\n"
     ]
    }
   ],
   "source": [
    "num = int(input('Enter the number you want the table for '))\n",
    "for i in range(1,11):\n",
    "    print(num*i)"
   ]
  },
  {
   "cell_type": "markdown",
   "id": "3ced7afb",
   "metadata": {
    "ExecuteTime": {
     "end_time": "2022-04-20T16:00:34.485702Z",
     "start_time": "2022-04-20T16:00:34.464991Z"
    }
   },
   "source": [
    "### Write a Program using the WHILE loop to print the factorial of any number that can be taken as input from the user ( Use the FOR loop)"
   ]
  },
  {
   "cell_type": "code",
   "execution_count": null,
   "id": "a412b8f8",
   "metadata": {},
   "outputs": [],
   "source": [
    "num = int(input('Enter the Number you want to find the Factorial for: '))"
   ]
  },
  {
   "cell_type": "markdown",
   "id": "533e8e32",
   "metadata": {},
   "source": [
    "### Write a Program using the WHILE loop to print the factorial of all numbers from 1 to 10\n",
    "\n",
    " Hint: Nest the for loop you had previously written under another for loop"
   ]
  },
  {
   "cell_type": "code",
   "execution_count": null,
   "id": "b7210969",
   "metadata": {},
   "outputs": [],
   "source": []
  },
  {
   "cell_type": "markdown",
   "id": "ec910d80",
   "metadata": {
    "ExecuteTime": {
     "end_time": "2022-04-20T16:11:24.678281Z",
     "start_time": "2022-04-20T16:11:24.654613Z"
    }
   },
   "source": [
    "### Bonus Question: Research what a Ramanujan Number is and Find all of them till 5000\n",
    "\n",
    "Note: This question is a tricky one so dont lose patience very quickly"
   ]
  },
  {
   "cell_type": "code",
   "execution_count": null,
   "id": "00051262",
   "metadata": {},
   "outputs": [],
   "source": []
  },
  {
   "cell_type": "code",
   "execution_count": null,
   "id": "4d496090",
   "metadata": {},
   "outputs": [],
   "source": []
  },
  {
   "cell_type": "code",
   "execution_count": null,
   "id": "99a79536",
   "metadata": {},
   "outputs": [],
   "source": []
  },
  {
   "cell_type": "code",
   "execution_count": null,
   "id": "98560cd0",
   "metadata": {},
   "outputs": [],
   "source": []
  },
  {
   "cell_type": "code",
   "execution_count": null,
   "id": "c10cef1f",
   "metadata": {},
   "outputs": [],
   "source": []
  },
  {
   "cell_type": "code",
   "execution_count": null,
   "id": "0519b3d5",
   "metadata": {},
   "outputs": [],
   "source": []
  }
 ],
 "metadata": {
  "kernelspec": {
   "display_name": "Python 3 (ipykernel)",
   "language": "python",
   "name": "python3"
  },
  "language_info": {
   "codemirror_mode": {
    "name": "ipython",
    "version": 3
   },
   "file_extension": ".py",
   "mimetype": "text/x-python",
   "name": "python",
   "nbconvert_exporter": "python",
   "pygments_lexer": "ipython3",
   "version": "3.10.0"
  }
 },
 "nbformat": 4,
 "nbformat_minor": 5
}
