{
 "cells": [
  {
   "cell_type": "markdown",
   "id": "95fdc188",
   "metadata": {},
   "source": [
    "# Python Function Excercises\n"
   ]
  },
  {
   "cell_type": "markdown",
   "id": "ce28410a",
   "metadata": {},
   "source": [
    "## Exercise 1: Create a function in Python\n",
    "\n",
    "Write a program to create a function that takes two arguments, name and age, and print their value"
   ]
  },
  {
   "cell_type": "code",
   "execution_count": 1,
   "id": "3b24b701",
   "metadata": {},
   "outputs": [
    {
     "name": "stdout",
     "output_type": "stream",
     "text": [
      "The name is Kun and the age is 39\n"
     ]
    }
   ],
   "source": [
    "def fun(name,age):\n",
    "    print(f\"The name is {name} and the age is {age}\")\n",
    "\n",
    "fun(\"Kun\",39)"
   ]
  },
  {
   "cell_type": "markdown",
   "id": "8cc3531d",
   "metadata": {},
   "source": [
    "## Exercise 2: Create a function with variable length of arguments\n",
    "\n",
    "Write a program to create function func1() to accept a variable length of arguments and print their value."
   ]
  },
  {
   "cell_type": "code",
   "execution_count": 4,
   "id": "5f8f15fe",
   "metadata": {},
   "outputs": [
    {
     "name": "stdout",
     "output_type": "stream",
     "text": [
      "The primary arg is 10\n",
      "The variable arguments are ('Dev', 'Raj', 34, 23, 'Hello')\n",
      "The variable arguments are {'Fruit': 'Apple', 'Meat': 'Fish'}\n"
     ]
    }
   ],
   "source": [
    "def fun(n,*args,**kwargs):\n",
    "    print(\"The primary arg is\",n)\n",
    "    print(\"The variable arguments are\",args)#tuple\n",
    "    print(\"The variable arguments are\",kwargs)#Dictionary\n",
    "fun(10,\"Dev\",\"Raj\",34,23,\"Hello\",Fruit=\"Apple\",Meat=\"Fish\")\n",
    "    "
   ]
  },
  {
   "cell_type": "markdown",
   "id": "9c7a1edb",
   "metadata": {},
   "source": [
    "## Exercise 3: Return multiple values from a function\n",
    "\n",
    "Write a program to create function calculation() such that it can accept two variables and calculate addition and subtraction. Also, it must return both addition and subtraction in a single return call."
   ]
  },
  {
   "cell_type": "code",
   "execution_count": 5,
   "id": "07684ceb",
   "metadata": {},
   "outputs": [
    {
     "name": "stdout",
     "output_type": "stream",
     "text": [
      "[12, -2]\n"
     ]
    }
   ],
   "source": [
    "def opr(a,b):\n",
    "    add=a+b\n",
    "    sub=a-b\n",
    "    return [add,sub]\n",
    "print(opr(5,7))"
   ]
  },
  {
   "cell_type": "markdown",
   "id": "09f47de3",
   "metadata": {},
   "source": [
    "## Exercise 4: Create a function with default argument\n",
    "\n",
    "Write a program to create a function show_employee() using the following conditions.\n",
    "\n",
    "   It should accept the employee’s name and salary and display both.\n",
    "   If the salary is missing in the function call then assign default value 9000 to salary"
   ]
  },
  {
   "cell_type": "code",
   "execution_count": 6,
   "id": "d891b3e9",
   "metadata": {},
   "outputs": [
    {
     "name": "stdout",
     "output_type": "stream",
     "text": [
      "The name is Dev and the salary is 9000\n"
     ]
    }
   ],
   "source": [
    "def show_employee(name,salary=9000):\n",
    "    print(f\"The name is {name} and the salary is {salary}\")\n",
    "show_employee(\"Dev\")"
   ]
  },
  {
   "cell_type": "markdown",
   "id": "97daa34b",
   "metadata": {},
   "source": [
    "## Exercise 5: Create an inner function to calculate the addition in the following way\n",
    "\n",
    "    Create an outer function that will accept two parameters, a and b\n",
    "    Create an inner function inside an outer function that will calculate the addition of a and b\n",
    "    At last, an outer function will add 5 into addition and return it"
   ]
  },
  {
   "cell_type": "code",
   "execution_count": 11,
   "id": "1cc603a7",
   "metadata": {},
   "outputs": [
    {
     "name": "stdout",
     "output_type": "stream",
     "text": [
      "15\n"
     ]
    }
   ],
   "source": [
    "def out_fun(a,b):\n",
    "    def in_fun():\n",
    "        return a+b\n",
    "    final= in_fun()\n",
    "    return final+5\n",
    "\n",
    "print(out_fun(5,5))\n",
    "\n",
    "        "
   ]
  },
  {
   "cell_type": "markdown",
   "id": "6d0066b9",
   "metadata": {},
   "source": [
    "## Excercise 6: Create a recursive function\n",
    "\n",
    "Write a program to create a recursive function to calculate the sum of numbers from 0 to n. ( n is an input to the function)\n",
    "\n",
    "A recursive function is a function that calls itself, again and again."
   ]
  },
  {
   "cell_type": "code",
   "execution_count": 13,
   "id": "196aeb09",
   "metadata": {},
   "outputs": [
    {
     "name": "stdout",
     "output_type": "stream",
     "text": [
      "Enter a number:6\n",
      "720\n"
     ]
    }
   ],
   "source": [
    "def fact(n):\n",
    "    if n==1:\n",
    "        return n\n",
    "    else:\n",
    "        return n*fact(n-1)\n",
    "n=int(input(\"Enter a number:\"))\n",
    "print(fact(n))"
   ]
  },
  {
   "cell_type": "markdown",
   "id": "ec8fc1dd",
   "metadata": {},
   "source": [
    "## Exercise 7: Assign a different name to function and call it through the new name\n",
    "\n",
    "Below is the function display_student(name, age). Assign a new name show_student(name, age) to it and call it using the new name\n",
    "           "
   ]
  },
  {
   "cell_type": "code",
   "execution_count": 14,
   "id": "98c72794",
   "metadata": {},
   "outputs": [
    {
     "name": "stdout",
     "output_type": "stream",
     "text": [
      "Emma 26\n"
     ]
    }
   ],
   "source": [
    "def display_student(name, age):\n",
    "    print(name, age)\n",
    "\n",
    "#display_student(\"Emma\", 26)\n",
    " \n",
    "show_student = display_student # assignment of one fun to another name is possible\n",
    "\n",
    "show_student(\"Emma\", 26)\n",
    "\n"
   ]
  },
  {
   "cell_type": "markdown",
   "id": "0aa64c00",
   "metadata": {},
   "source": [
    "## Exercise 7: Create a Lambda function that will output the square of the numbers entered\n",
    "\n"
   ]
  },
  {
   "cell_type": "code",
   "execution_count": 15,
   "id": "5ba0e9ba",
   "metadata": {},
   "outputs": [
    {
     "name": "stdout",
     "output_type": "stream",
     "text": [
      "25\n"
     ]
    }
   ],
   "source": [
    "x= lambda n : n*n\n",
    "print(x(5))"
   ]
  },
  {
   "cell_type": "markdown",
   "id": "a21232ae",
   "metadata": {},
   "source": [
    "## Exercise 8: Create a Lambda function that will output the square of the numbers entered\n",
    "\n"
   ]
  },
  {
   "cell_type": "code",
   "execution_count": null,
   "id": "1354707c",
   "metadata": {},
   "outputs": [],
   "source": [
    "x= lambda n : n*n\n",
    "print(x(5))"
   ]
  },
  {
   "cell_type": "markdown",
   "id": "6fb1d078",
   "metadata": {},
   "source": [
    "## Exercise 9 : Use the Lambda function with map() to process a list to output the square of values"
   ]
  },
  {
   "cell_type": "code",
   "execution_count": 21,
   "id": "25453ede",
   "metadata": {},
   "outputs": [
    {
     "name": "stdout",
     "output_type": "stream",
     "text": [
      "[1, 4, 9]\n"
     ]
    }
   ],
   "source": [
    "x= list(map(lambda n:n*n,[1,2,3]))\n",
    "print(x)\n"
   ]
  },
  {
   "cell_type": "markdown",
   "id": "78deaa0c",
   "metadata": {},
   "source": [
    "## Exercise 10 : Use the Lambda function to filter out the non numeric values in a list\n",
    "\n",
    "     Ex : '12' is numeric\n",
    "           12 is numeric\n",
    "           'python' is non numeric\n",
    "           '12a' is non numeric\n",
    "           "
   ]
  },
  {
   "cell_type": "code",
   "execution_count": 4,
   "id": "c34d5997",
   "metadata": {},
   "outputs": [
    {
     "name": "stdout",
     "output_type": "stream",
     "text": [
      "['12']\n"
     ]
    }
   ],
   "source": [
    "mylist = [\"12\",\"is\",\"numeric\"]\n",
    "x = list(filter(lambda n : n.isdigit(),mylist))\n",
    "print(x)"
   ]
  },
  {
   "cell_type": "code",
   "execution_count": null,
   "id": "867e1271",
   "metadata": {},
   "outputs": [],
   "source": []
  }
 ],
 "metadata": {
  "kernelspec": {
   "display_name": "Python 3 (ipykernel)",
   "language": "python",
   "name": "python3"
  },
  "language_info": {
   "codemirror_mode": {
    "name": "ipython",
    "version": 3
   },
   "file_extension": ".py",
   "mimetype": "text/x-python",
   "name": "python",
   "nbconvert_exporter": "python",
   "pygments_lexer": "ipython3",
   "version": "3.10.0"
  }
 },
 "nbformat": 4,
 "nbformat_minor": 5
}
